{
  "nbformat": 4,
  "nbformat_minor": 0,
  "metadata": {
    "colab": {
      "provenance": [],
      "authorship_tag": "ABX9TyNYIdtKPI9Pww+U2dyjj2Ws",
      "include_colab_link": true
    },
    "kernelspec": {
      "name": "python3",
      "display_name": "Python 3"
    },
    "language_info": {
      "name": "python"
    }
  },
  "cells": [
    {
      "cell_type": "markdown",
      "metadata": {
        "id": "view-in-github",
        "colab_type": "text"
      },
      "source": [
        "<a href=\"https://colab.research.google.com/github/curio25/30-days-of-pandas/blob/main/595_big_countries.ipynb\" target=\"_parent\"><img src=\"https://colab.research.google.com/assets/colab-badge.svg\" alt=\"Open In Colab\"/></a>"
      ]
    },
    {
      "cell_type": "markdown",
      "source": [
        "# **595. Big Countries**\n",
        "\n",
        "\n",
        "Table: World\n",
        "\n",
        "```\n",
        "+-------------+---------+\n",
        "| Column Name | Type    |\n",
        "+-------------+---------+\n",
        "| name        | varchar |\n",
        "| continent   | varchar |\n",
        "| area        | int     |\n",
        "| population  | int     |\n",
        "| gdp         | bigint  |\n",
        "+-------------+---------+\n",
        "```\n",
        "name is the primary key (column with unique values) for this table.\n",
        "Each row of this table gives information about the name of a country, the continent to which it belongs, its area, the population, and its GDP value.\n",
        "\n",
        "A country is big if: it has an area of at least three million (i.e., 3000000 km2), or it has a population of at least twenty-five million (i.e., 25000000).\n",
        "\n",
        "Write a solution to find the name, population, and area of the big countries.\n",
        "\n",
        "Return the result table in any order.\n",
        "\n",
        "The result format is in the following example.\n",
        "\n",
        "\n",
        "Example 1:\n",
        "\n",
        "Input:\n",
        "World table:\n",
        "```\n",
        "+-------------+-----------+---------+------------+--------------+\n",
        "| name        | continent | area    | population | gdp          |\n",
        "+-------------+-----------+---------+------------+--------------+\n",
        "| Afghanistan | Asia      | 652230  | 25500100   | 20343000000  |\n",
        "| Albania     | Europe    | 28748   | 2831741    | 12960000000  |\n",
        "| Algeria     | Africa    | 2381741 | 37100000   | 188681000000 |\n",
        "| Andorra     | Europe    | 468     | 78115      | 3712000000   |\n",
        "| Angola      | Africa    | 1246700 | 20609294   | 100990000000 |\n",
        "+-------------+-----------+---------+------------+--------------+\n",
        "```\n",
        "\n",
        "\n",
        "Output:\n",
        "```\n",
        "+-------------+------------+---------+\n",
        "| name        | population | area    |\n",
        "+-------------+------------+---------+\n",
        "| Afghanistan | 25500100   | 652230  |\n",
        "| Algeria     | 37100000   | 2381741 |\n",
        "+-------------+------------+---------+\n",
        "```\n",
        "\n",
        "\n"
      ],
      "metadata": {
        "id": "WJlSuPxJjaEb"
      }
    },
    {
      "cell_type": "code",
      "source": [
        "import pandas as pd\n",
        "\n",
        "def big_countries(world: pd.DataFrame) -> pd.DataFrame:\n",
        "    return world[(world['area'] >= 3000000) | (world['population'] >= 25000000)][['name', 'population', 'area']]"
      ],
      "metadata": {
        "id": "FSumudRJkVbi"
      },
      "execution_count": 1,
      "outputs": []
    },
    {
      "cell_type": "markdown",
      "source": [
        "## Case 1\n",
        "\n",
        "```\n",
        "\n",
        "World =\n",
        "| name        | continent | area    | population | gdp          |\n",
        "| ----------- | --------- | ------- | ---------- | ------------ |\n",
        "| Afghanistan | Asia      | 652230  | 25500100   | 20343000000  |\n",
        "| Albania     | Europe    | 28748   | 2831741    | 12960000000  |\n",
        "| Algeria     | Africa    | 2381741 | 37100000   | 188681000000 |\n",
        "| Andorra     | Europe    | 468     | 78115      | 3712000000   |\n",
        "| Angola      | Africa    | 1246700 | 20609294   | 100990000000 |\n",
        "\n",
        "```\n",
        "\n"
      ],
      "metadata": {
        "id": "RjIVMawdksVZ"
      }
    },
    {
      "cell_type": "code",
      "source": [
        "data = [['Afghanistan', 'Asia', 652230, 25500100, 20343000000], ['Albania','Europe',28748,2831741,12960000000], ['Algeria','Africa',2381741,37100000,188681000000], ['Andorra','Europe,',468,78115,3712000000], ['Angola','Africa',1246700,20609294,100990000000]]"
      ],
      "metadata": {
        "id": "OLT1PXcCkfjb"
      },
      "execution_count": 3,
      "outputs": []
    },
    {
      "cell_type": "code",
      "source": [
        "world = pd.DataFrame(data, columns=['name', 'continent', 'area', 'population','gdp'])"
      ],
      "metadata": {
        "id": "jFzB8SW7laG5"
      },
      "execution_count": 4,
      "outputs": []
    },
    {
      "cell_type": "code",
      "source": [
        "print(big_countries(world))"
      ],
      "metadata": {
        "colab": {
          "base_uri": "https://localhost:8080/"
        },
        "id": "JTJVa-vmllTk",
        "outputId": "5c47319e-2d6b-489e-a35d-4368e8ca3968"
      },
      "execution_count": 5,
      "outputs": [
        {
          "output_type": "stream",
          "name": "stdout",
          "text": [
            "          name  population     area\n",
            "0  Afghanistan    25500100   652230\n",
            "2      Algeria    37100000  2381741\n"
          ]
        }
      ]
    }
  ]
}